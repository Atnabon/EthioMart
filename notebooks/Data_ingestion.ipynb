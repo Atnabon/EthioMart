{
 "cells": [
  {
   "cell_type": "code",
   "execution_count": 6,
   "metadata": {},
   "outputs": [],
   "source": [
    "from telethon.sync import TelegramClient\n",
    "import pandas as pd\n",
    "from datetime import datetime"
   ]
  },
  {
   "cell_type": "code",
   "execution_count": 7,
   "metadata": {},
   "outputs": [],
   "source": [
    "\n",
    "api_id = '80894102'\n",
    "api_hash = '485ad93e61131b16df482363d2a26613'\n",
    "phone = '0936131328'"
   ]
  },
  {
   "cell_type": "code",
   "execution_count": 9,
   "metadata": {},
   "outputs": [],
   "source": [
    "# Connect to Telegram\n",
    "client = TelegramClient('Helloo-Market-Ethiopia', api_id, api_hash)\n",
    "\n",
    "async def fetch_messages(channel_username):\n",
    "    messages = []\n",
    "\n",
    "        # Get all messages from the Telegram channel\n",
    "    async for message in client.iter_messages(channel_username):\n",
    "        if message.text:  # Only process text messages for now\n",
    "            messages.append({\n",
    "                'message_id': message.id,\n",
    "                'sender': message.sender_id,\n",
    "                'message': message.text,\n",
    "                'timestamp': message.date,\n",
    "                'media': message.media\n",
    "            })\n",
    "\n",
    "    return messages"
   ]
  },
  {
   "cell_type": "code",
   "execution_count": 10,
   "metadata": {},
   "outputs": [],
   "source": [
    "async def main():\n",
    "    await client.start(phone=phone)\n",
    "    channels = ['@helloomarketethiopia']  # Add Telegram channel usernames here\n",
    "    all_messages = []\n",
    "\n",
    "    for channel in channels:\n",
    "        messages = await fetch_messages(channel)\n",
    "        all_messages.extend(messages)\n",
    "\n",
    "    # Save raw data to a CSV file\n",
    "    df = pd.DataFrame(all_messages)\n",
    "    df.to_csv('telegram_messages_HME.csv', index=False)\n",
    "\n",
    "  #  with client:\n",
    "   #    client.loop.run_until_complete(main())"
   ]
  }
 ],
 "metadata": {
  "kernelspec": {
   "display_name": "venv",
   "language": "python",
   "name": "python3"
  },
  "language_info": {
   "codemirror_mode": {
    "name": "ipython",
    "version": 3
   },
   "file_extension": ".py",
   "mimetype": "text/x-python",
   "name": "python",
   "nbconvert_exporter": "python",
   "pygments_lexer": "ipython3",
   "version": "3.12.6"
  }
 },
 "nbformat": 4,
 "nbformat_minor": 2
}
